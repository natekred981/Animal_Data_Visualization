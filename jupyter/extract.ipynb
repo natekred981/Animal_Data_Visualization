{
 "cells": [
  {
   "cell_type": "code",
   "execution_count": 13,
   "metadata": {},
   "outputs": [],
   "source": []
  },
  {
   "cell_type": "code",
   "execution_count": 41,
   "metadata": {},
   "outputs": [],
   "source": [
    "import pandas as pd\n",
    "file_path = (\"/Users/nathan/Projects/animal_viz/data/raw/yearly_slaughter_weight.xlsx\")\n",
    "df = pd.read_excel(file_path)\n",
    "df = df.iloc[9:19]\n",
    "df = df[['Unnamed: 0', 'Unnamed: 2', 'Unnamed: 4', 'Unnamed: 6', 'Unnamed: 8']]\n",
    "df.rename(columns={\n",
    "    'Unnamed: 0': 'year',\n",
    "    'Unnamed: 2': 'less_than_one_point_four',\n",
    "    'Unnamed: 4': 'one_point_four_less_than_two_point_seven',\n",
    "    'Unnamed: 6': 'greater_than_two_point_seven',\n",
    "    'Unnamed: 8': 'total'\n",
    "}, inplace=True)"
   ]
  },
  {
   "cell_type": "code",
   "execution_count": 38,
   "metadata": {},
   "outputs": [
    {
     "name": "stderr",
     "output_type": "stream",
     "text": [
      "/var/folders/3d/50276p4x58g14fx_yv70d3fc0000gn/T/ipykernel_68494/2131227154.py:4: UserWarning: pandas only supports SQLAlchemy connectable (engine/connection) or database string URI or sqlite3 DBAPI2 connection. Other DBAPI2 objects are not tested. Please consider using SQLAlchemy.\n",
      "  df.to_sql(\"slaughter_data\", connection, if_exists='replace', index=False)\n"
     ]
    },
    {
     "data": {
      "text/plain": [
       "10"
      ]
     },
     "execution_count": 38,
     "metadata": {},
     "output_type": "execute_result"
    }
   ],
   "source": [
    "from sqlalchemy import create_engine\n",
    "engine = create_engine(\"sqlite:///data/processed/animal_slaughter_stats.db\")\n",
    "connection = engine.raw_connection()\n",
    "df.to_sql(\"slaughter_data\", connection, if_exists='replace', index=False)\n",
    "\n",
    "\n"
   ]
  },
  {
   "cell_type": "code",
   "execution_count": 42,
   "metadata": {},
   "outputs": [],
   "source": [
    "import sqlite3\n",
    "import os\n",
    "\n",
    "# Specify the absolute path to the database file\n",
    "#db_path = os.path.abspath('data/processed/animal_slaughter_stats.db')\n",
    "db_path = '/Users/nathan/Projects/animal_viz/data/processed/animal_slaughter_stats.db'\n",
    "conn = sqlite3.connect(db_path)\n",
    "cursor = conn.cursor()\n",
    "cursor.execute('DROP TABLE IF EXISTS slaughter_stats')\n",
    "cursor.execute('''\n",
    "    CREATE TABLE IF NOT EXISTS slaughter_stats (\n",
    "        year INTEGER PRIMARY KEY,\n",
    "        less_than_one_point_four INTEGER,\n",
    "        one_point_four_less_than_two_point_seven INTEGER,\n",
    "        greater_than_two_point_seven INTEGER,\n",
    "        total INTEGER\n",
    "    )\n",
    "''')\n",
    "conn.commit()\n",
    "conn.close()"
   ]
  },
  {
   "cell_type": "code",
   "execution_count": 1,
   "metadata": {},
   "outputs": [],
   "source": [
    "import sqlite3\n",
    "import yaml\n",
    "# with open('../config/config.yaml', 'r') as file:\n",
    "#     config = yaml.safe_load(file)\n",
    "\n",
    "# db_uri = config['database']['db_uri']\n",
    "# db_path = db_uri.split('///')[-1]  # Extract the path to the database file\n",
    "\n",
    "conn = sqlite3.connect(\"/Users/nathan/Projects/animal_viz/data/processed/animal_slaughter_stats.db\")\n",
    "cursor = conn.cursor()\n",
    "cursor.execute('DROP TABLE IF EXISTS slaughter_stats')\n",
    "conn.commit()\n",
    "conn.close()"
   ]
  },
  {
   "cell_type": "code",
   "execution_count": 6,
   "metadata": {},
   "outputs": [],
   "source": [
    "conn = sqlite3.connect(db_path)\n",
    "cursor = conn.cursor()\n",
    "cursor.execute(\"PRAGMA table_info(slaughter_stats)\")\n",
    "columns = cursor.fetchall()"
   ]
  },
  {
   "cell_type": "code",
   "execution_count": 5,
   "metadata": {},
   "outputs": [],
   "source": [
    "for column in columns:\n",
    "    print(column)\n",
    "\n",
    "conn.close()\n"
   ]
  },
  {
   "cell_type": "code",
   "execution_count": 43,
   "metadata": {},
   "outputs": [],
   "source": [
    "conn = sqlite3.connect(db_path)\n",
    "cursor = conn.cursor()\n",
    "df.to_sql('slaughter_stats', conn, if_exists='append', index=False)\n",
    "conn.commit()\n",
    "conn.close()"
   ]
  },
  {
   "cell_type": "code",
   "execution_count": 46,
   "metadata": {},
   "outputs": [
    {
     "data": {
      "text/plain": [
       "'data/processed/animal_slaughter_stats.db'"
      ]
     },
     "execution_count": 46,
     "metadata": {},
     "output_type": "execute_result"
    }
   ],
   "source": [
    "import yaml\n",
    "with open('../config/config.yaml', 'r') as file:\n",
    "    config = yaml.safe_load(file)\n",
    "\n",
    "db_uri = config['database']['db_uri']\n",
    "db_path = db_uri.split('///')[-1]  # Extract the path to the database file\n"
   ]
  },
  {
   "cell_type": "code",
   "execution_count": 35,
   "metadata": {},
   "outputs": [
    {
     "name": "stdout",
     "output_type": "stream",
     "text": [
      "Database path: /Users/nathan/Projects/animal_viz/data/processed/animal_slaughter_stats.db\n",
      "/Users/nathan/Projects/animal_viz/jupyter\n"
     ]
    }
   ],
   "source": [
    "print(f\"Database path: {db_path}\")\n",
    "print(os.getcwd())\n"
   ]
  }
 ],
 "metadata": {
  "kernelspec": {
   "display_name": "venv",
   "language": "python",
   "name": "python3"
  },
  "language_info": {
   "codemirror_mode": {
    "name": "ipython",
    "version": 3
   },
   "file_extension": ".py",
   "mimetype": "text/x-python",
   "name": "python",
   "nbconvert_exporter": "python",
   "pygments_lexer": "ipython3",
   "version": "3.10.1"
  }
 },
 "nbformat": 4,
 "nbformat_minor": 2
}
